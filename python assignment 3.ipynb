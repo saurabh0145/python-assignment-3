{
 "cells": [
  {
   "cell_type": "code",
   "execution_count": null,
   "metadata": {},
   "outputs": [],
   "source": [
    "# Q.No.1.1\n",
    "def myreduce(func, lst):\n",
    "    finalValue = lst[0] \n",
    "    for val in lst[1:]:\n",
    "        finalValue = finalValue + val\n",
    "    return finalValue\n",
    "\n",
    "def addnums(x,y):\n",
    "    c = x + y\n",
    "    return c\n",
    "\n",
    "myreduce(addnums,[1,2,3,4,5])"
   ]
  },
  {
   "cell_type": "code",
   "execution_count": null,
   "metadata": {},
   "outputs": [],
   "source": [
    "# Q.No.1.2\n",
    "def myfilter(func,lst):\n",
    "    output = []\n",
    "    for i in lst:\n",
    "        if (func(i)):\n",
    "            output.append(i)\n",
    "    return output\n",
    "\n",
    "# in this case its set to filter out numbers divisible by 3\n",
    "def func_filter(num):\n",
    "    if (num % 3 == 0):\n",
    "        return True\n",
    "    \n",
    "myfilter(func_filter,range(51))"
   ]
  },
  {
   "cell_type": "code",
   "execution_count": null,
   "metadata": {},
   "outputs": [],
   "source": [
    "# Q.No.2.1\n",
    "inputlist = ['x','y','z']\n",
    "result = [i*num for i in inputlist for num in range(1,5)]\n",
    "print( \"['x','y','z'] = \"   + str(result)"
   ]
  },
  {
   "cell_type": "code",
   "execution_count": null,
   "metadata": {},
   "outputs": [],
   "source": [
    "# Q.No.2.2\n",
    "input_list = ['x','y','z']\n",
    "result = [ item*num for num in range(1,5) for item in input_list  ]\n",
    "print(\"['x','y','z'] => \" +   str(result))"
   ]
  },
  {
   "cell_type": "code",
   "execution_count": null,
   "metadata": {},
   "outputs": [],
   "source": [
    "# Q.No.2.3\n",
    "input_list1 = [2,3,4]\n",
    "result1 = [ [item+num] for item in input_list1 for num in range(0,3)]\n",
    "print(\"[2,3,4] = \" +  str(result1))\n",
    "\n",
    "\n",
    "input_list2 = [2,3,4,5]\n",
    "result2 = [ [item+num for item in input_list2] for num in range(0,4)  ]\n",
    "print(\"[2,3,4,5] = \" +  str(result2))"
   ]
  },
  {
   "cell_type": "code",
   "execution_count": 57,
   "metadata": {},
   "outputs": [],
   "source": [
    "# Q.No.2.4\n",
    "input_list=[1,2,3]\n",
    "result = [ (b,a) for a in input_list for b in input_list]\n",
    "print(\"[1,2,3] = \" +  str(result))"
   ]
  }
 ],
 "metadata": {
  "kernelspec": {
   "display_name": "Python 3",
   "language": "python",
   "name": "python3"
  },
  "language_info": {
   "codemirror_mode": {
    "name": "ipython",
    "version": 3
   },
   "file_extension": ".py",
   "mimetype": "text/x-python",
   "name": "python",
   "nbconvert_exporter": "python",
   "pygments_lexer": "ipython3",
   "version": "3.8.5"
  }
 },
 "nbformat": 4,
 "nbformat_minor": 4
}
